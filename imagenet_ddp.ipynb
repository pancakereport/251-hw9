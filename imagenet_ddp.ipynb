{
 "cells": [
  {
   "cell_type": "code",
   "execution_count": 1,
   "id": "2636d9b3",
   "metadata": {
    "executionInfo": {
     "elapsed": 4198,
     "status": "ok",
     "timestamp": 1624759883403,
     "user": {
      "displayName": "Dima Rekesh",
      "photoUrl": "https://lh3.googleusercontent.com/a-/AOh14GgCxhnQN9cW764WS8AiJguM8wE5foCZLMjr-NyFuQ=s64",
      "userId": "05362657998610812765"
     },
     "user_tz": 420
    },
    "id": "f2513038"
   },
   "outputs": [
    {
     "name": "stderr",
     "output_type": "stream",
     "text": [
      "/usr/local/lib/python3.8/dist-packages/tqdm/auto.py:22: TqdmWarning: IProgress not found. Please update jupyter and ipywidgets. See https://ipywidgets.readthedocs.io/en/stable/user_install.html\n",
      "  from .autonotebook import tqdm as notebook_tqdm\n"
     ]
    }
   ],
   "source": [
    "import os\n",
    "import random\n",
    "import shutil\n",
    "import time\n",
    "import warnings\n",
    "\n",
    "import torch\n",
    "import torch.nn as nn\n",
    "import torch.backends.cudnn as cudnn\n",
    "import torch.optim\n",
    "\n",
    "import torch.utils.data\n",
    "import torchvision\n",
    "import torchvision.transforms as transforms\n",
    "import torchvision.datasets as datasets\n",
    "import torchvision.models as models\n",
    "\n",
    "from torch.cuda.amp import GradScaler\n",
    "import torch.distributed as dist"
   ]
  },
  {
   "cell_type": "code",
   "execution_count": 2,
   "id": "8da24328",
   "metadata": {},
   "outputs": [],
   "source": [
    "from torch.utils.tensorboard import SummaryWriter\n",
    "writer = SummaryWriter(log_dir=\"/data/runs\")\n",
    "#!tensorboard --logdir=/data/runs #"
   ]
  },
  {
   "cell_type": "code",
   "execution_count": 3,
   "id": "ad6e0b30",
   "metadata": {
    "id": "8cb72e29"
   },
   "outputs": [],
   "source": [
    "GPU = torch.device(\"cuda:0\")"
   ]
  },
  {
   "cell_type": "code",
   "execution_count": 4,
   "id": "7fb8e70b",
   "metadata": {
    "executionInfo": {
     "elapsed": 354,
     "status": "ok",
     "timestamp": 1624759889299,
     "user": {
      "displayName": "Dima Rekesh",
      "photoUrl": "https://lh3.googleusercontent.com/a-/AOh14GgCxhnQN9cW764WS8AiJguM8wE5foCZLMjr-NyFuQ=s64",
      "userId": "05362657998610812765"
     },
     "user_tz": 420
    },
    "id": "02d1a0c0"
   },
   "outputs": [],
   "source": [
    "SEED=1"
   ]
  },
  {
   "cell_type": "code",
   "execution_count": 5,
   "id": "3607da83",
   "metadata": {
    "executionInfo": {
     "elapsed": 17,
     "status": "ok",
     "timestamp": 1624759891917,
     "user": {
      "displayName": "Dima Rekesh",
      "photoUrl": "https://lh3.googleusercontent.com/a-/AOh14GgCxhnQN9cW764WS8AiJguM8wE5foCZLMjr-NyFuQ=s64",
      "userId": "05362657998610812765"
     },
     "user_tz": 420
    },
    "id": "b1b9bfde"
   },
   "outputs": [],
   "source": [
    "random.seed(SEED)\n",
    "torch.manual_seed(SEED)\n",
    "cudnn.deterministic = True"
   ]
  },
  {
   "cell_type": "code",
   "execution_count": 6,
   "id": "09d0ec52",
   "metadata": {
    "colab": {
     "base_uri": "https://localhost:8080/"
    },
    "executionInfo": {
     "elapsed": 230,
     "status": "ok",
     "timestamp": 1624759894660,
     "user": {
      "displayName": "Dima Rekesh",
      "photoUrl": "https://lh3.googleusercontent.com/a-/AOh14GgCxhnQN9cW764WS8AiJguM8wE5foCZLMjr-NyFuQ=s64",
      "userId": "05362657998610812765"
     },
     "user_tz": 420
    },
    "id": "e9eb47a7",
    "outputId": "c49775ff-91ee-488c-d99c-3739e452d6af"
   },
   "outputs": [
    {
     "data": {
      "text/plain": [
       "1"
      ]
     },
     "execution_count": 6,
     "metadata": {},
     "output_type": "execute_result"
    }
   ],
   "source": [
    "torch.cuda.device_count()"
   ]
  },
  {
   "cell_type": "code",
   "execution_count": 7,
   "id": "9063feb4",
   "metadata": {
    "id": "073b7b81"
   },
   "outputs": [],
   "source": [
    "START_EPOCH = 0"
   ]
  },
  {
   "cell_type": "code",
   "execution_count": 8,
   "id": "3eaa5c02",
   "metadata": {
    "id": "5e18ae51",
    "tags": [
     "parameters"
    ]
   },
   "outputs": [],
   "source": [
    "ARCH = 'resnet18'\n",
    "EPOCHS = 2\n",
    "LR = 0.1\n",
    "MOMENTUM = 0.9\n",
    "WEIGHT_DECAY = 1e-4\n",
    "PRINT_FREQ = 100\n",
    "TRAIN_BATCH=128\n",
    "VAL_BATCH=128\n",
    "WORKERS=4"
   ]
  },
  {
   "cell_type": "code",
   "execution_count": 9,
   "id": "199676a9",
   "metadata": {
    "id": "85299ee3"
   },
   "outputs": [],
   "source": [
    "TRAINDIR=\"/data/train2\"\n",
    "VALDIR=\"/data/val\""
   ]
  },
  {
   "cell_type": "code",
   "execution_count": 10,
   "id": "92f948d8",
   "metadata": {
    "colab": {
     "base_uri": "https://localhost:8080/"
    },
    "executionInfo": {
     "elapsed": 137,
     "status": "ok",
     "timestamp": 1622949197302,
     "user": {
      "displayName": "Jayanth Srinivasa",
      "photoUrl": "",
      "userId": "03369694624178485882"
     },
     "user_tz": 420
    },
    "id": "c6bf6a83",
    "outputId": "72d2e92f-7574-4c0a-c813-288cd69eaa36"
   },
   "outputs": [],
   "source": [
    "if not torch.cuda.is_available():\n",
    "    print('GPU not detected.. did you pass through your GPU?')"
   ]
  },
  {
   "cell_type": "code",
   "execution_count": 11,
   "id": "6314f3ce",
   "metadata": {},
   "outputs": [],
   "source": [
    "WORLD_SIZE = 2\n",
    "BACKEND = 'nccl'\n",
    "URL = 'tcp://34.229.89.6:1234' \n",
    "RANK = 0\n"
   ]
  },
  {
   "cell_type": "code",
   "execution_count": 12,
   "id": "67fa1ce3",
   "metadata": {},
   "outputs": [],
   "source": [
    "dist.init_process_group(backend = BACKEND, init_method = URL,\n",
    "                       world_size = WORLD_SIZE, rank = RANK)"
   ]
  },
  {
   "cell_type": "code",
   "execution_count": 13,
   "id": "334cc416",
   "metadata": {
    "id": "acd97390"
   },
   "outputs": [],
   "source": [
    "#torch.cuda.set_device('cpu')"
   ]
  },
  {
   "cell_type": "code",
   "execution_count": 14,
   "id": "b56bd9f1",
   "metadata": {
    "id": "e19a5849"
   },
   "outputs": [],
   "source": [
    "cudnn.benchmark = True"
   ]
  },
  {
   "cell_type": "code",
   "execution_count": 15,
   "id": "a1258f20",
   "metadata": {},
   "outputs": [],
   "source": [
    "scaler = GradScaler()"
   ]
  },
  {
   "cell_type": "code",
   "execution_count": 16,
   "id": "d8a9b624",
   "metadata": {},
   "outputs": [],
   "source": [
    "global_step_train = 0\n",
    "global_step_val = 0"
   ]
  },
  {
   "cell_type": "code",
   "execution_count": 17,
   "id": "a0de2d3e",
   "metadata": {
    "id": "4e65743f"
   },
   "outputs": [],
   "source": [
    "def train(train_loader, model, criterion, optimizer, epoch):\n",
    "    global global_step_train\n",
    "    batch_time = AverageMeter('Time', ':6.3f')\n",
    "    data_time = AverageMeter('Data', ':6.3f')\n",
    "    losses = AverageMeter('Loss', ':.4e')\n",
    "    top1 = AverageMeter('Acc@1', ':6.2f')\n",
    "    top5 = AverageMeter('Acc@5', ':6.2f')\n",
    "    progress = ProgressMeter(\n",
    "        len(train_loader),\n",
    "        [batch_time, data_time, losses, top1, top5],\n",
    "        prefix=\"Epoch: [{}]\".format(epoch))\n",
    "\n",
    "    # switch to train mode\n",
    "    model.train()\n",
    "\n",
    "    end = time.time()\n",
    "    for i, (images, target) in enumerate(train_loader):\n",
    "        # measure data loading time\n",
    "        data_time.update(time.time() - end)\n",
    "\n",
    "        if GPU is not None:\n",
    "            images = images.cuda(GPU, non_blocking=True)\n",
    "        if torch.cuda.is_available():\n",
    "            target = target.cuda(GPU, non_blocking=True)\n",
    "\n",
    "        # compute output\n",
    "        with torch.autocast(device_type='cuda', dtype=torch.float16):\n",
    "            output = model(images)\n",
    "            loss = criterion(output, target)\n",
    "\n",
    "        # measure accuracy and record loss\n",
    "        acc1, acc5 = accuracy(output, target, topk=(1, 5))\n",
    "        losses.update(loss.item(), images.size(0))\n",
    "        top1.update(acc1[0], images.size(0))\n",
    "        top5.update(acc5[0], images.size(0))\n",
    "\n",
    "        scaler.scale(loss).backward()\n",
    "        scaler.step(optimizer)\n",
    "        scaler.update()\n",
    "        \n",
    "        writer.add_scalar(\"Loss/train_ddp1\", losses.avg, global_step = global_step_train)\n",
    "        writer.add_scalar(\"acc1/train_ddp1\", top1.avg, global_step = global_step_train)\n",
    "        writer.add_scalar(\"acc5/train_ddp1\", top5.avg, global_step = global_step_train)\n",
    "        global_step_train += 1\n",
    "        \n",
    "        # compute gradient and do SGD step\n",
    "        #optimizer.zero_grad()\n",
    "        #loss.backward()\n",
    "        #optimizer.step()\n",
    "\n",
    "        # measure elapsed time\n",
    "        batch_time.update(time.time() - end)\n",
    "        end = time.time()\n",
    "        \n",
    "\n",
    "        if i % PRINT_FREQ == 0:\n",
    "            progress.display(i)"
   ]
  },
  {
   "cell_type": "code",
   "execution_count": 18,
   "id": "404fe5a3",
   "metadata": {
    "id": "ab30a1a4"
   },
   "outputs": [],
   "source": [
    "def validate(val_loader, model, criterion):\n",
    "    global global_step_val\n",
    "    batch_time = AverageMeter('Time', ':6.3f')\n",
    "    losses = AverageMeter('Loss', ':.4e')\n",
    "    top1 = AverageMeter('Acc@1', ':6.2f')\n",
    "    top5 = AverageMeter('Acc@5', ':6.2f')\n",
    "    progress = ProgressMeter(\n",
    "        len(val_loader),\n",
    "        [batch_time, losses, top1, top5],\n",
    "        prefix='Test: ')\n",
    "\n",
    "    # switch to evaluate mode\n",
    "    model.eval()\n",
    "\n",
    "    with torch.no_grad():\n",
    "        end = time.time()\n",
    "        for i, (images, target) in enumerate(val_loader):\n",
    "            if GPU is not None:\n",
    "                images = images.cuda(GPU, non_blocking=True)\n",
    "            if torch.cuda.is_available():\n",
    "                target = target.cuda(GPU, non_blocking=True)\n",
    "\n",
    "            # compute output\n",
    "            with torch.autocast(device_type='cuda', dtype=torch.float16):\n",
    "                output = model(images)\n",
    "                loss = criterion(output, target)\n",
    "\n",
    "            # measure accuracy and record loss\n",
    "            acc1, acc5 = accuracy(output, target, topk=(1, 5))\n",
    "            losses.update(loss.item(), images.size(0))\n",
    "            top1.update(acc1[0], images.size(0))\n",
    "            top5.update(acc5[0], images.size(0))\n",
    "\n",
    "            # measure elapsed time\n",
    "            batch_time.update(time.time() - end)\n",
    "            end = time.time()\n",
    "\n",
    "            if i % PRINT_FREQ == 0:\n",
    "                progress.display(i)\n",
    "\n",
    "        # TODO: this should also be done with the ProgressMeter\n",
    "        print(' * Acc@1 {top1.avg:.3f} Acc@5 {top5.avg:.3f}'\n",
    "              .format(top1=top1, top5=top5))\n",
    "\n",
    "    writer.add_scalar(\"Loss/val_ddp1\", losses.avg, global_step = global_step_val)\n",
    "    writer.add_scalar(\"acc1/val_ddp1\", top1.avg, global_step = global_step_val)\n",
    "    writer.add_scalar(\"acc5/val_ddp1\", top5.avg, global_step = global_step_val)\n",
    "    global_step_val += 1\n",
    "    return top1.avg"
   ]
  },
  {
   "cell_type": "code",
   "execution_count": 19,
   "id": "75e6efd7",
   "metadata": {
    "id": "afa7d9fd"
   },
   "outputs": [],
   "source": [
    "def save_checkpoint(state, is_best, filename='checkpoint.pth.tar'):\n",
    "    torch.save(state, filename)\n",
    "    if is_best:\n",
    "        shutil.copyfile(filename, 'model_best.pth.tar')"
   ]
  },
  {
   "cell_type": "code",
   "execution_count": 20,
   "id": "eba2c791",
   "metadata": {
    "id": "8c5f0ab4"
   },
   "outputs": [],
   "source": [
    "class AverageMeter(object):\n",
    "    \"\"\"Computes and stores the average and current value\"\"\"\n",
    "    def __init__(self, name, fmt=':f'):\n",
    "        self.name = name\n",
    "        self.fmt = fmt\n",
    "        self.reset()\n",
    "\n",
    "    def reset(self):\n",
    "        self.val = 0\n",
    "        self.avg = 0\n",
    "        self.sum = 0\n",
    "        self.count = 0\n",
    "\n",
    "    def update(self, val, n=1):\n",
    "        self.val = val\n",
    "        self.sum += val * n\n",
    "        self.count += n\n",
    "        self.avg = self.sum / self.count\n",
    "\n",
    "    def __str__(self):\n",
    "        fmtstr = '{name} {val' + self.fmt + '} ({avg' + self.fmt + '})'\n",
    "        return fmtstr.format(**self.__dict__)"
   ]
  },
  {
   "cell_type": "code",
   "execution_count": 21,
   "id": "9ca71b4b",
   "metadata": {
    "id": "ce30c86a"
   },
   "outputs": [],
   "source": [
    "class ProgressMeter(object):\n",
    "    def __init__(self, num_batches, meters, prefix=\"\"):\n",
    "        self.batch_fmtstr = self._get_batch_fmtstr(num_batches)\n",
    "        self.meters = meters\n",
    "        self.prefix = prefix\n",
    "\n",
    "    def display(self, batch):\n",
    "        entries = [self.prefix + self.batch_fmtstr.format(batch)]\n",
    "        entries += [str(meter) for meter in self.meters]\n",
    "        print('\\t'.join(entries))\n",
    "\n",
    "    def _get_batch_fmtstr(self, num_batches):\n",
    "        num_digits = len(str(num_batches // 1))\n",
    "        fmt = '{:' + str(num_digits) + 'd}'\n",
    "        return '[' + fmt + '/' + fmt.format(num_batches) + ']'"
   ]
  },
  {
   "cell_type": "code",
   "execution_count": 22,
   "id": "e45b2c41",
   "metadata": {
    "id": "7504ce7a"
   },
   "outputs": [],
   "source": [
    "def adjust_learning_rate(optimizer, epoch):\n",
    "    \"\"\"Sets the learning rate to the initial LR decayed by 10 every 30 epochs\"\"\"\n",
    "    lr = LR * (0.1 ** (epoch // 30))\n",
    "    for param_group in optimizer.param_groups:\n",
    "        param_group['lr'] = lr"
   ]
  },
  {
   "cell_type": "code",
   "execution_count": 23,
   "id": "d6e31294",
   "metadata": {
    "id": "0d659923"
   },
   "outputs": [],
   "source": [
    "def accuracy(output, target, topk=(1,)):\n",
    "    \"\"\"Computes the accuracy over the k top predictions for the specified values of k\"\"\"\n",
    "    with torch.no_grad():\n",
    "        maxk = max(topk)\n",
    "        batch_size = target.size(0)\n",
    "\n",
    "        _, pred = output.topk(maxk, 1, True, True)\n",
    "        pred = pred.t()\n",
    "        correct = pred.eq(target.view(1, -1).expand_as(pred))\n",
    "\n",
    "        res = []\n",
    "        for k in topk:\n",
    "            correct_k = correct[:k].reshape(-1).float().sum(0, keepdim=True)\n",
    "            res.append(correct_k.mul_(100.0 / batch_size))\n",
    "        return res"
   ]
  },
  {
   "cell_type": "code",
   "execution_count": 24,
   "id": "011558e1",
   "metadata": {
    "id": "f74f06e1"
   },
   "outputs": [],
   "source": [
    "imagenet_mean_RGB = [0.47889522, 0.47227842, 0.43047404]\n",
    "imagenet_std_RGB = [0.229, 0.224, 0.225]\n",
    "cinic_mean_RGB = [0.47889522, 0.47227842, 0.43047404]\n",
    "cinic_std_RGB = [0.24205776, 0.23828046, 0.25874835]\n",
    "cifar_mean_RGB = [0.4914, 0.4822, 0.4465]\n",
    "cifar_std_RGB = [0.2023, 0.1994, 0.2010]"
   ]
  },
  {
   "cell_type": "code",
   "execution_count": 25,
   "id": "3003cc17",
   "metadata": {
    "id": "c005e2dd"
   },
   "outputs": [],
   "source": [
    "normalize = transforms.Normalize(mean=imagenet_mean_RGB, std=imagenet_std_RGB)"
   ]
  },
  {
   "cell_type": "code",
   "execution_count": 26,
   "id": "68ecd134",
   "metadata": {
    "id": "29d54592"
   },
   "outputs": [],
   "source": [
    "#IMG_SIZE = 32 cinic size\n",
    "IMG_SIZE = 224 # i think this is right for imagenet"
   ]
  },
  {
   "cell_type": "code",
   "execution_count": 27,
   "id": "a8431e53",
   "metadata": {
    "id": "94059b7f"
   },
   "outputs": [],
   "source": [
    "# imagenet has 1000 classes\n",
    "NUM_CLASSES = 1000"
   ]
  },
  {
   "cell_type": "code",
   "execution_count": 28,
   "id": "e2d541e7",
   "metadata": {
    "id": "788c0401"
   },
   "outputs": [],
   "source": [
    "model = models.__dict__[ARCH]()"
   ]
  },
  {
   "cell_type": "code",
   "execution_count": 29,
   "id": "10673ef8",
   "metadata": {
    "id": "63dc579e"
   },
   "outputs": [
    {
     "data": {
      "text/plain": [
       "512"
      ]
     },
     "execution_count": 29,
     "metadata": {},
     "output_type": "execute_result"
    }
   ],
   "source": [
    "inf = model.fc.in_features\n",
    "inf"
   ]
  },
  {
   "cell_type": "code",
   "execution_count": 30,
   "id": "578d8cd4",
   "metadata": {
    "id": "edf9cf5d"
   },
   "outputs": [],
   "source": [
    "model.fc = nn.Linear(inf, NUM_CLASSES)"
   ]
  },
  {
   "cell_type": "code",
   "execution_count": 31,
   "id": "ac0d416a",
   "metadata": {
    "id": "319e2d99"
   },
   "outputs": [],
   "source": [
    "model.cuda(GPU)\n",
    "model = torch.nn.parallel.DistributedDataParallel(model, device_ids=[GPU])\n"
   ]
  },
  {
   "cell_type": "code",
   "execution_count": 32,
   "id": "9bb5fe35",
   "metadata": {
    "id": "b8dc59b5"
   },
   "outputs": [],
   "source": [
    "criterion = nn.CrossEntropyLoss().cuda(GPU)"
   ]
  },
  {
   "cell_type": "code",
   "execution_count": 33,
   "id": "ac2078eb",
   "metadata": {
    "id": "3999d84a"
   },
   "outputs": [],
   "source": [
    "optimizer = torch.optim.SGD(model.parameters(), LR,\n",
    "                                momentum=MOMENTUM,\n",
    "                                weight_decay=WEIGHT_DECAY)"
   ]
  },
  {
   "cell_type": "code",
   "execution_count": 34,
   "id": "95a01eae",
   "metadata": {
    "id": "9fae338b"
   },
   "outputs": [],
   "source": [
    "scheduler = torch.optim.lr_scheduler.CosineAnnealingLR(optimizer, T_max=EPOCHS)"
   ]
  },
  {
   "cell_type": "code",
   "execution_count": 35,
   "id": "9b2d2145",
   "metadata": {
    "id": "34dbcdb1"
   },
   "outputs": [],
   "source": [
    "transform_train = transforms.Compose([\n",
    "    #transforms.RandomCrop(I),\n",
    "    #transforms.Rescale(32),\n",
    "    transforms.RandomResizedCrop(224),\n",
    "    transforms.RandomHorizontalFlip(),\n",
    "    #transforms.RandomHorizontalFlip(),\n",
    "    transforms.ToTensor(),\n",
    "    transforms.Normalize(cinic_mean_RGB, cinic_std_RGB),\n",
    "])"
   ]
  },
  {
   "cell_type": "code",
   "execution_count": 36,
   "id": "e3f0176b",
   "metadata": {
    "id": "e5275a69"
   },
   "outputs": [],
   "source": [
    "train_dataset = datasets.ImageFolder(\n",
    "    TRAINDIR, transform=transform_train)"
   ]
  },
  {
   "cell_type": "code",
   "execution_count": 37,
   "id": "7d7c9a96",
   "metadata": {
    "id": "854ca1ad"
   },
   "outputs": [],
   "source": [
    "transform_val = transforms.Compose([\n",
    "    #transforms.Rescale(32),\n",
    "    transforms.Resize(256),\n",
    "    transforms.CenterCrop(224),\n",
    "    transforms.ToTensor(),\n",
    "    transforms.Normalize(cinic_mean_RGB, cinic_std_RGB),\n",
    "])"
   ]
  },
  {
   "cell_type": "code",
   "execution_count": 38,
   "id": "1e46dfe0",
   "metadata": {
    "id": "abfa5fb6"
   },
   "outputs": [],
   "source": [
    "val_dataset = datasets.ImageFolder(\n",
    "    VALDIR, transform=transform_val)"
   ]
  },
  {
   "cell_type": "code",
   "execution_count": 40,
   "id": "83a31f91",
   "metadata": {
    "id": "07a0bdf4"
   },
   "outputs": [],
   "source": [
    "train_loader = torch.utils.data.DataLoader(\n",
    "        train_dataset, batch_size=TRAIN_BATCH, shuffle=False,\n",
    "        num_workers=WORKERS, pin_memory=True, sampler=torch.utils.data.distributed.DistributedSampler(train_dataset))"
   ]
  },
  {
   "cell_type": "code",
   "execution_count": 41,
   "id": "96bb2fc8",
   "metadata": {
    "id": "192ae835"
   },
   "outputs": [],
   "source": [
    "val_loader = torch.utils.data.DataLoader(\n",
    "        val_dataset, batch_size=VAL_BATCH, shuffle=False,\n",
    "        num_workers=WORKERS, pin_memory=True, sampler=torch.utils.data.distributed.DistributedSampler(val_dataset)) "
   ]
  },
  {
   "cell_type": "code",
   "execution_count": 42,
   "id": "14469a2b",
   "metadata": {
    "id": "1502c5db"
   },
   "outputs": [],
   "source": [
    "best_acc1 = 0"
   ]
  },
  {
   "cell_type": "code",
   "execution_count": null,
   "id": "0041f51e",
   "metadata": {
    "id": "ceb95e07"
   },
   "outputs": [
    {
     "name": "stdout",
     "output_type": "stream",
     "text": [
      "Epoch: [0][   0/5005]\tTime  7.747 ( 7.747)\tData  1.306 ( 1.306)\tLoss 6.9604e+00 (6.9604e+00)\tAcc@1   0.00 (  0.00)\tAcc@5   0.78 (  0.78)\n",
      "Epoch: [0][ 100/5005]\tTime  0.128 ( 0.363)\tData  0.005 ( 0.179)\tLoss 6.8097e+00 (6.9205e+00)\tAcc@1   0.00 (  0.35)\tAcc@5   0.78 (  1.23)\n",
      "Epoch: [0][ 200/5005]\tTime  0.143 ( 0.346)\tData  0.013 ( 0.157)\tLoss 6.4276e+00 (6.7897e+00)\tAcc@1   0.78 (  0.43)\tAcc@5   2.34 (  1.87)\n",
      "Epoch: [0][ 300/5005]\tTime  0.478 ( 0.346)\tData  0.364 ( 0.141)\tLoss 6.2583e+00 (6.6820e+00)\tAcc@1   1.56 (  0.62)\tAcc@5   4.69 (  2.57)\n",
      "Epoch: [0][ 400/5005]\tTime  0.388 ( 0.346)\tData  0.281 ( 0.132)\tLoss 6.1666e+00 (6.5839e+00)\tAcc@1   2.34 (  0.76)\tAcc@5   6.25 (  3.23)\n",
      "Epoch: [0][ 500/5005]\tTime  0.507 ( 0.346)\tData  0.380 ( 0.126)\tLoss 5.9967e+00 (6.4956e+00)\tAcc@1   0.00 (  0.98)\tAcc@5   5.47 (  3.93)\n",
      "Epoch: [0][ 600/5005]\tTime  0.405 ( 0.347)\tData  0.297 ( 0.121)\tLoss 5.9916e+00 (6.4172e+00)\tAcc@1   3.91 (  1.22)\tAcc@5   7.03 (  4.58)\n",
      "Epoch: [0][ 700/5005]\tTime  0.555 ( 0.346)\tData  0.433 ( 0.118)\tLoss 5.7160e+00 (6.3428e+00)\tAcc@1   4.69 (  1.46)\tAcc@5  14.06 (  5.28)\n",
      "Epoch: [0][ 800/5005]\tTime  0.628 ( 0.347)\tData  0.500 ( 0.116)\tLoss 5.9116e+00 (6.2749e+00)\tAcc@1   3.91 (  1.69)\tAcc@5  10.94 (  5.98)\n",
      "Epoch: [0][ 900/5005]\tTime  0.542 ( 0.347)\tData  0.407 ( 0.115)\tLoss 5.5759e+00 (6.2126e+00)\tAcc@1   3.91 (  1.92)\tAcc@5  14.06 (  6.68)\n",
      "Epoch: [0][1000/5005]\tTime  0.513 ( 0.347)\tData  0.392 ( 0.115)\tLoss 5.7331e+00 (6.1526e+00)\tAcc@1   3.91 (  2.17)\tAcc@5   7.03 (  7.32)\n",
      "Epoch: [0][1100/5005]\tTime  0.610 ( 0.347)\tData  0.472 ( 0.114)\tLoss 5.4088e+00 (6.0972e+00)\tAcc@1   7.81 (  2.41)\tAcc@5  19.53 (  7.98)\n",
      "Epoch: [0][1200/5005]\tTime  0.718 ( 0.346)\tData  0.595 ( 0.116)\tLoss 5.6147e+00 (6.0444e+00)\tAcc@1   3.12 (  2.64)\tAcc@5  12.50 (  8.62)\n",
      "Epoch: [0][1300/5005]\tTime  0.680 ( 0.346)\tData  0.573 ( 0.116)\tLoss 5.5113e+00 (5.9965e+00)\tAcc@1   1.56 (  2.89)\tAcc@5  11.72 (  9.25)\n",
      "Epoch: [0][1400/5005]\tTime  0.320 ( 0.346)\tData  0.201 ( 0.116)\tLoss 5.3267e+00 (5.9494e+00)\tAcc@1   9.38 (  3.13)\tAcc@5  21.09 (  9.88)\n",
      "Epoch: [0][1500/5005]\tTime  0.270 ( 0.345)\tData  0.170 ( 0.118)\tLoss 5.3772e+00 (5.9060e+00)\tAcc@1   6.25 (  3.35)\tAcc@5  15.62 ( 10.45)\n",
      "Epoch: [0][1600/5005]\tTime  0.640 ( 0.345)\tData  0.514 ( 0.119)\tLoss 5.0035e+00 (5.8616e+00)\tAcc@1   7.81 (  3.59)\tAcc@5  21.88 ( 11.07)\n",
      "Epoch: [0][1700/5005]\tTime  0.554 ( 0.345)\tData  0.434 ( 0.119)\tLoss 4.9146e+00 (5.8211e+00)\tAcc@1   9.38 (  3.83)\tAcc@5  28.12 ( 11.66)\n",
      "Epoch: [0][1800/5005]\tTime  0.563 ( 0.346)\tData  0.455 ( 0.118)\tLoss 4.9465e+00 (5.7804e+00)\tAcc@1   7.03 (  4.07)\tAcc@5  24.22 ( 12.23)\n",
      "Epoch: [0][1900/5005]\tTime  0.575 ( 0.346)\tData  0.450 ( 0.118)\tLoss 5.0427e+00 (5.7400e+00)\tAcc@1   6.25 (  4.33)\tAcc@5  21.09 ( 12.83)\n",
      "Epoch: [0][2000/5005]\tTime  0.328 ( 0.346)\tData  0.210 ( 0.118)\tLoss 4.9493e+00 (5.7020e+00)\tAcc@1   9.38 (  4.57)\tAcc@5  24.22 ( 13.41)\n",
      "Epoch: [0][2100/5005]\tTime  0.352 ( 0.345)\tData  0.239 ( 0.120)\tLoss 5.2245e+00 (5.6659e+00)\tAcc@1   3.12 (  4.84)\tAcc@5  21.09 ( 13.98)\n",
      "Epoch: [0][2200/5005]\tTime  0.123 ( 0.344)\tData  0.006 ( 0.121)\tLoss 4.9153e+00 (5.6309e+00)\tAcc@1   9.38 (  5.08)\tAcc@5  25.00 ( 14.52)\n",
      "Epoch: [0][2300/5005]\tTime  0.119 ( 0.343)\tData  0.000 ( 0.123)\tLoss 4.6091e+00 (5.5958e+00)\tAcc@1  11.72 (  5.32)\tAcc@5  28.12 ( 15.05)\n",
      "Epoch: [0][2400/5005]\tTime  0.117 ( 0.342)\tData  0.000 ( 0.125)\tLoss 4.5870e+00 (5.5616e+00)\tAcc@1  16.41 (  5.56)\tAcc@5  31.25 ( 15.59)\n",
      "Epoch: [0][2500/5005]\tTime  0.111 ( 0.341)\tData  0.000 ( 0.126)\tLoss 4.7704e+00 (5.5282e+00)\tAcc@1   9.38 (  5.82)\tAcc@5  32.03 ( 16.14)\n",
      "Epoch: [0][2600/5005]\tTime  0.161 ( 0.340)\tData  0.054 ( 0.127)\tLoss 4.6967e+00 (5.4944e+00)\tAcc@1  10.16 (  6.08)\tAcc@5  30.47 ( 16.67)\n",
      "Epoch: [0][2700/5005]\tTime  0.673 ( 0.341)\tData  0.504 ( 0.127)\tLoss 4.7445e+00 (5.4632e+00)\tAcc@1  13.28 (  6.34)\tAcc@5  28.91 ( 17.16)\n",
      "Epoch: [0][2800/5005]\tTime  0.562 ( 0.341)\tData  0.425 ( 0.127)\tLoss 4.7383e+00 (5.4320e+00)\tAcc@1  10.94 (  6.60)\tAcc@5  28.91 ( 17.69)\n",
      "Epoch: [0][2900/5005]\tTime  0.691 ( 0.342)\tData  0.587 ( 0.127)\tLoss 4.6803e+00 (5.4019e+00)\tAcc@1  10.94 (  6.84)\tAcc@5  27.34 ( 18.19)\n",
      "Epoch: [0][3000/5005]\tTime  0.587 ( 0.342)\tData  0.470 ( 0.126)\tLoss 4.3890e+00 (5.3733e+00)\tAcc@1  12.50 (  7.07)\tAcc@5  35.94 ( 18.66)\n",
      "Epoch: [0][3100/5005]\tTime  0.521 ( 0.342)\tData  0.422 ( 0.126)\tLoss 4.5791e+00 (5.3447e+00)\tAcc@1  11.72 (  7.30)\tAcc@5  28.91 ( 19.13)\n",
      "Epoch: [0][3200/5005]\tTime  0.524 ( 0.342)\tData  0.410 ( 0.125)\tLoss 4.2807e+00 (5.3156e+00)\tAcc@1  17.19 (  7.54)\tAcc@5  33.59 ( 19.61)\n",
      "Epoch: [0][3300/5005]\tTime  0.405 ( 0.342)\tData  0.279 ( 0.126)\tLoss 4.4221e+00 (5.2877e+00)\tAcc@1  10.16 (  7.78)\tAcc@5  35.16 ( 20.08)\n",
      "Epoch: [0][3400/5005]\tTime  0.614 ( 0.342)\tData  0.503 ( 0.126)\tLoss 4.4015e+00 (5.2602e+00)\tAcc@1  13.28 (  8.03)\tAcc@5  32.81 ( 20.54)\n",
      "Epoch: [0][3500/5005]\tTime  0.952 ( 0.341)\tData  0.847 ( 0.127)\tLoss 4.7191e+00 (5.2341e+00)\tAcc@1  14.06 (  8.25)\tAcc@5  28.91 ( 20.99)\n",
      "Epoch: [0][3600/5005]\tTime  0.796 ( 0.341)\tData  0.370 ( 0.127)\tLoss 4.2092e+00 (5.2077e+00)\tAcc@1  21.09 (  8.50)\tAcc@5  35.94 ( 21.43)\n",
      "Epoch: [0][3700/5005]\tTime  0.665 ( 0.340)\tData  0.545 ( 0.128)\tLoss 4.0271e+00 (5.1826e+00)\tAcc@1  18.75 (  8.73)\tAcc@5  42.97 ( 21.85)\n",
      "Epoch: [0][3800/5005]\tTime  0.815 ( 0.340)\tData  0.702 ( 0.130)\tLoss 4.6731e+00 (5.1578e+00)\tAcc@1  17.97 (  8.96)\tAcc@5  32.03 ( 22.28)\n",
      "Epoch: [0][3900/5005]\tTime  0.829 ( 0.339)\tData  0.667 ( 0.131)\tLoss 4.0396e+00 (5.1334e+00)\tAcc@1  18.75 (  9.19)\tAcc@5  43.75 ( 22.70)\n",
      "Epoch: [0][4000/5005]\tTime  0.945 ( 0.339)\tData  0.839 ( 0.131)\tLoss 4.3129e+00 (5.1100e+00)\tAcc@1  18.75 (  9.42)\tAcc@5  37.50 ( 23.11)\n",
      "Epoch: [0][4100/5005]\tTime  0.768 ( 0.338)\tData  0.407 ( 0.133)\tLoss 4.0033e+00 (5.0867e+00)\tAcc@1  15.62 (  9.64)\tAcc@5  41.41 ( 23.52)\n",
      "Epoch: [0][4200/5005]\tTime  0.888 ( 0.338)\tData  0.559 ( 0.134)\tLoss 4.2550e+00 (5.0642e+00)\tAcc@1  14.06 (  9.86)\tAcc@5  36.72 ( 23.92)\n",
      "Epoch: [0][4300/5005]\tTime  0.794 ( 0.337)\tData  0.115 ( 0.135)\tLoss 4.1983e+00 (5.0419e+00)\tAcc@1  21.09 ( 10.09)\tAcc@5  39.06 ( 24.31)\n",
      "Epoch: [0][4400/5005]\tTime  0.854 ( 0.337)\tData  0.738 ( 0.136)\tLoss 4.5820e+00 (5.0193e+00)\tAcc@1  18.75 ( 10.32)\tAcc@5  34.38 ( 24.71)\n",
      "Epoch: [0][4500/5005]\tTime  0.874 ( 0.337)\tData  0.765 ( 0.136)\tLoss 4.3231e+00 (4.9972e+00)\tAcc@1  14.84 ( 10.54)\tAcc@5  36.72 ( 25.10)\n",
      "Epoch: [0][4600/5005]\tTime  0.898 ( 0.336)\tData  0.781 ( 0.138)\tLoss 4.1473e+00 (4.9750e+00)\tAcc@1  21.09 ( 10.76)\tAcc@5  42.97 ( 25.49)\n",
      "Epoch: [0][4700/5005]\tTime  0.820 ( 0.335)\tData  0.645 ( 0.138)\tLoss 4.1296e+00 (4.9540e+00)\tAcc@1  17.97 ( 10.97)\tAcc@5  40.62 ( 25.86)\n",
      "Epoch: [0][4800/5005]\tTime  0.772 ( 0.335)\tData  0.471 ( 0.139)\tLoss 3.8232e+00 (4.9341e+00)\tAcc@1  17.97 ( 11.17)\tAcc@5  45.31 ( 26.22)\n",
      "Epoch: [0][4900/5005]\tTime  0.726 ( 0.335)\tData  0.620 ( 0.140)\tLoss 4.0004e+00 (4.9136e+00)\tAcc@1  17.19 ( 11.38)\tAcc@5  43.75 ( 26.58)\n",
      "Epoch: [0][5000/5005]\tTime  0.391 ( 0.335)\tData  0.155 ( 0.140)\tLoss 3.9637e+00 (4.8936e+00)\tAcc@1  21.88 ( 11.60)\tAcc@5  46.88 ( 26.94)\n",
      "Test: [  0/196]\tTime  1.411 ( 1.411)\tLoss 3.5881e+00 (3.5881e+00)\tAcc@1  26.56 ( 26.56)\tAcc@5  47.66 ( 47.66)\n",
      "Test: [100/196]\tTime  0.929 ( 0.319)\tLoss 3.6489e+00 (3.7553e+00)\tAcc@1  24.22 ( 23.02)\tAcc@5  47.66 ( 47.17)\n",
      " * Acc@1 23.104 Acc@5 47.212\n",
      "lr: [0.05]\n",
      "Epoch: [1][   0/5005]\tTime  1.807 ( 1.807)\tData  1.167 ( 1.167)\tLoss 3.5551e+00 (3.5551e+00)\tAcc@1  24.22 ( 24.22)\tAcc@5  51.56 ( 51.56)\n",
      "Epoch: [1][ 100/5005]\tTime  0.502 ( 0.331)\tData  0.000 ( 0.179)\tLoss 3.8272e+00 (3.8904e+00)\tAcc@1  19.53 ( 21.65)\tAcc@5  50.78 ( 45.13)\n",
      "Epoch: [1][ 200/5005]\tTime  0.121 ( 0.327)\tData  0.000 ( 0.176)\tLoss 3.7035e+00 (3.8862e+00)\tAcc@1  32.03 ( 22.00)\tAcc@5  50.78 ( 45.24)\n",
      "Epoch: [1][ 300/5005]\tTime  0.247 ( 0.325)\tData  0.000 ( 0.176)\tLoss 3.9117e+00 (3.8830e+00)\tAcc@1  19.53 ( 22.12)\tAcc@5  46.09 ( 45.16)\n",
      "Epoch: [1][ 400/5005]\tTime  0.219 ( 0.324)\tData  0.001 ( 0.171)\tLoss 4.1244e+00 (3.8759e+00)\tAcc@1  18.75 ( 22.33)\tAcc@5  42.97 ( 45.35)\n",
      "Epoch: [1][ 500/5005]\tTime  0.112 ( 0.323)\tData  0.000 ( 0.170)\tLoss 3.7777e+00 (3.8665e+00)\tAcc@1  27.34 ( 22.56)\tAcc@5  44.53 ( 45.50)\n",
      "Epoch: [1][ 600/5005]\tTime  0.125 ( 0.321)\tData  0.000 ( 0.172)\tLoss 3.5231e+00 (3.8536e+00)\tAcc@1  28.91 ( 22.75)\tAcc@5  53.12 ( 45.80)\n",
      "Epoch: [1][ 700/5005]\tTime  0.132 ( 0.321)\tData  0.000 ( 0.173)\tLoss 3.8630e+00 (3.8396e+00)\tAcc@1  25.00 ( 22.97)\tAcc@5  46.09 ( 46.05)\n",
      "Epoch: [1][ 800/5005]\tTime  0.144 ( 0.323)\tData  0.000 ( 0.168)\tLoss 4.0183e+00 (3.8280e+00)\tAcc@1  19.53 ( 23.14)\tAcc@5  44.53 ( 46.24)\n",
      "Epoch: [1][ 900/5005]\tTime  0.114 ( 0.325)\tData  0.000 ( 0.165)\tLoss 3.7312e+00 (3.8189e+00)\tAcc@1  22.66 ( 23.29)\tAcc@5  49.22 ( 46.38)\n",
      "Epoch: [1][1000/5005]\tTime  0.121 ( 0.326)\tData  0.001 ( 0.162)\tLoss 4.0447e+00 (3.8068e+00)\tAcc@1  16.41 ( 23.49)\tAcc@5  43.75 ( 46.67)\n",
      "Epoch: [1][1100/5005]\tTime  0.126 ( 0.328)\tData  0.013 ( 0.157)\tLoss 3.6321e+00 (3.7961e+00)\tAcc@1  26.56 ( 23.67)\tAcc@5  51.56 ( 46.89)\n",
      "Epoch: [1][1200/5005]\tTime  0.116 ( 0.328)\tData  0.001 ( 0.156)\tLoss 3.9340e+00 (3.7874e+00)\tAcc@1  25.00 ( 23.79)\tAcc@5  49.22 ( 47.03)\n",
      "Epoch: [1][1300/5005]\tTime  0.120 ( 0.329)\tData  0.000 ( 0.156)\tLoss 3.6272e+00 (3.7779e+00)\tAcc@1  25.00 ( 23.94)\tAcc@5  50.00 ( 47.20)\n",
      "Epoch: [1][1400/5005]\tTime  0.118 ( 0.330)\tData  0.000 ( 0.155)\tLoss 3.6453e+00 (3.7684e+00)\tAcc@1  28.12 ( 24.10)\tAcc@5  50.78 ( 47.37)\n",
      "Epoch: [1][1500/5005]\tTime  0.110 ( 0.331)\tData  0.000 ( 0.153)\tLoss 3.4536e+00 (3.7599e+00)\tAcc@1  30.47 ( 24.22)\tAcc@5  51.56 ( 47.55)\n",
      "Epoch: [1][1600/5005]\tTime  0.122 ( 0.331)\tData  0.001 ( 0.154)\tLoss 3.6513e+00 (3.7521e+00)\tAcc@1  25.00 ( 24.30)\tAcc@5  51.56 ( 47.71)\n",
      "Epoch: [1][1700/5005]\tTime  0.118 ( 0.331)\tData  0.000 ( 0.153)\tLoss 3.3719e+00 (3.7427e+00)\tAcc@1  28.91 ( 24.47)\tAcc@5  50.78 ( 47.90)\n",
      "Epoch: [1][1800/5005]\tTime  0.114 ( 0.332)\tData  0.000 ( 0.152)\tLoss 3.6531e+00 (3.7355e+00)\tAcc@1  31.25 ( 24.60)\tAcc@5  52.34 ( 48.04)\n",
      "Epoch: [1][1900/5005]\tTime  0.118 ( 0.333)\tData  0.000 ( 0.150)\tLoss 3.5203e+00 (3.7266e+00)\tAcc@1  30.47 ( 24.74)\tAcc@5  55.47 ( 48.20)\n"
     ]
    }
   ],
   "source": [
    "for epoch in range(START_EPOCH, EPOCHS):\n",
    "    adjust_learning_rate(optimizer, epoch)\n",
    "\n",
    "    # train for one epoch\n",
    "    train(train_loader, model, criterion, optimizer, epoch)\n",
    "\n",
    "    # evaluate on validation set\n",
    "    acc1 = validate(val_loader, model, criterion)\n",
    "\n",
    "    # remember best acc@1 and save checkpoint\n",
    "    is_best = acc1 > best_acc1\n",
    "    best_acc1 = max(acc1, best_acc1)\n",
    "\n",
    "\n",
    "    save_checkpoint({\n",
    "        'epoch': epoch + 1,\n",
    "        'arch': ARCH,\n",
    "        'state_dict': model.state_dict(),\n",
    "        'best_acc1': best_acc1,\n",
    "        'optimizer' : optimizer.state_dict(),\n",
    "    }, is_best)\n",
    "    \n",
    "    scheduler.step()\n",
    "    print('lr: ' + str(scheduler.get_last_lr()))"
   ]
  },
  {
   "cell_type": "code",
   "execution_count": null,
   "id": "f2dfe141",
   "metadata": {
    "id": "adc68068"
   },
   "outputs": [],
   "source": []
  },
  {
   "cell_type": "code",
   "execution_count": null,
   "id": "d3f63d9f",
   "metadata": {
    "id": "d3faf0cd"
   },
   "outputs": [],
   "source": []
  }
 ],
 "metadata": {
  "colab": {
   "name": "cinic.ipynb",
   "provenance": []
  },
  "kernelspec": {
   "display_name": "Python 3 (ipykernel)",
   "language": "python",
   "name": "python3"
  },
  "language_info": {
   "codemirror_mode": {
    "name": "ipython",
    "version": 3
   },
   "file_extension": ".py",
   "mimetype": "text/x-python",
   "name": "python",
   "nbconvert_exporter": "python",
   "pygments_lexer": "ipython3",
   "version": "3.8.10"
  }
 },
 "nbformat": 4,
 "nbformat_minor": 5
}
